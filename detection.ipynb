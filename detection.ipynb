{
 "cells": [
  {
   "cell_type": "markdown",
   "id": "3f83f0b7-e46a-4837-8c8b-55ed82a82430",
   "metadata": {},
   "source": [
    "## Import libraries"
   ]
  },
  {
   "cell_type": "code",
   "execution_count": null,
   "id": "ba91ef7d-a16c-488a-a117-4f634c639241",
   "metadata": {},
   "outputs": [],
   "source": [
    "import os\n",
    "\n",
    "import numpy as np\n",
    "import pandas as pd\n",
    "import matplotlib.pyplot as plt\n",
    "\n",
    "from joblib import dump, load\n",
    "\n",
    "from sklearn.mixture import GaussianMixture as GMM\n",
    "from sklearn.cluster import KMeans\n",
    "\n",
    "from hmmlearn import hmm"
   ]
  },
  {
   "cell_type": "markdown",
   "id": "aca40005-3ad8-4b78-81bb-0ae6ba7047cc",
   "metadata": {},
   "source": [
    "## Data"
   ]
  },
  {
   "cell_type": "code",
   "execution_count": null,
   "id": "4de06b8c-566f-4ae1-aa9a-706f09f7c227",
   "metadata": {},
   "outputs": [],
   "source": [
    "# Trawlers\n",
    "Trawl = []\n",
    "Trawl_l = []\n",
    "for trawl in trawl_file:\n",
    "    da = pd.read_csv(\"train/\" + str(trawl) + \".csv\")\n",
    "    v = da[\"speed\"].tolist()\n",
    "    Trawl.append(v)\n",
    "    Trawl_l.append(len(v))\n",
    "    \n",
    "# Seiners\n",
    "Seiners = []\n",
    "Seiners_l = []\n",
    "for seiner in seiner_file:\n",
    "    da = pd.read_csv(\"train/\" + str(seiners) + \".csv\")\n",
    "    v = da[\"speed\"].tolist()\n",
    "    Seiners.append(v)\n",
    "    Seiners_l.append(len(v))\n",
    "    \n",
    "# Gillnetters\n",
    "Gill = []\n",
    "Gill_l = []\n",
    "for gill in gill_file:\n",
    "    da = pd.read_csv(\"train/\" + str(gill) + \".csv\")\n",
    "    v = da[\"speed\"].tolist()\n",
    "    Gill.append(v)\n",
    "    Gill_l.append(len(v))"
   ]
  },
  {
   "cell_type": "markdown",
   "id": "72fc62d6-cc2b-4f37-9bd5-c3c6e1aa16e8",
   "metadata": {},
   "source": [
    "## Model"
   ]
  },
  {
   "cell_type": "code",
   "execution_count": null,
   "id": "2dc6b902-697e-431d-82e3-5affac57d4ec",
   "metadata": {},
   "outputs": [],
   "source": [
    "# Using moving average to get each point's status\n",
    "def mv(arr, window_size=3):\n",
    "    \n",
    "    h1 = arr.tolist().copy()\n",
    "    h1.append(0)\n",
    "    h1.append(0)\n",
    "\n",
    "    h2 = arr.tolist().copy()\n",
    "    h2.insert(0, 0)\n",
    "    h2.append(0)\n",
    "\n",
    "    h3 = arr.tolist().copy()\n",
    "    h3.insert(0, 0)\n",
    "    h3.insert(0, 0)\n",
    "\n",
    "    H = np.array([h1,h2,h3])\n",
    "    m = np.mean(H, axis=0)\n",
    "\n",
    "    m[0] = arr[0]\n",
    "    m[-1] = arr[-1]\n",
    "    m[1] = (arr[0] + arr[1])/2\n",
    "    m[-2] = (arr[-1] + arr[-2])/2\n",
    "    return m"
   ]
  },
  {
   "cell_type": "code",
   "execution_count": null,
   "id": "971950ae-0c4e-40e9-a26c-1dab37761006",
   "metadata": {},
   "outputs": [],
   "source": [
    "# Training\n",
    "Trawl_time = [np.lib.stride_tricks.sliding_window_view(trawl, window_shape=3) for trawl in Trawl]\n",
    "Trawl_kmeans = KMeans(n_clusters=2, init='random',n_init=10, max_iter=300, tol=1e-04, random_state=0)\n",
    "Trawl_kmeans.fit(np.concatenate(Trawl_time))\n",
    "Trawl_results = mv(Trawl_kmeans.predict(data))"
   ]
  }
 ],
 "metadata": {
  "kernelspec": {
   "display_name": "Python 3 (ipykernel)",
   "language": "python",
   "name": "python3"
  },
  "language_info": {
   "codemirror_mode": {
    "name": "ipython",
    "version": 3
   },
   "file_extension": ".py",
   "mimetype": "text/x-python",
   "name": "python",
   "nbconvert_exporter": "python",
   "pygments_lexer": "ipython3",
   "version": "3.7.12"
  }
 },
 "nbformat": 4,
 "nbformat_minor": 5
}
