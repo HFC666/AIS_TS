{
 "cells": [
  {
   "cell_type": "markdown",
   "id": "d07be2c7-db72-4a19-a75b-45d48746b81f",
   "metadata": {},
   "source": [
    "## Import libraries"
   ]
  },
  {
   "cell_type": "code",
   "execution_count": 1,
   "id": "5e857e05-a0ab-4387-a211-4e40304eb5e3",
   "metadata": {},
   "outputs": [],
   "source": [
    "import os\n",
    "import random\n",
    "from functools import partial\n",
    "import zipfile\n",
    "\n",
    "import numpy as np\n",
    "import pandas as pd\n",
    "import matplotlib.pyplot as plt\n",
    "from sklearn.manifold import TSNE\n",
    "from sklearn.cluster import KMeans\n",
    "\n",
    "import torch\n",
    "import torch.nn as nn\n",
    "import torch.optim as optim\n",
    "\n",
    "\n",
    "from torch.utils.data import DataLoader\n",
    "from torch.utils.data import Dataset\n",
    "from torch.nn.utils.rnn import pad_sequence\n",
    "\n",
    "from TST import TSTransformerEncoderClassiregressor, NoFussCrossEntropyLoss\n",
    "from tqdm.auto import tqdm"
   ]
  },
  {
   "cell_type": "markdown",
   "id": "fbcdcb17-3c95-428a-91ae-397cf17bf9d2",
   "metadata": {},
   "source": [
    "## Model"
   ]
  },
  {
   "cell_type": "code",
   "execution_count": null,
   "id": "64b8f6c9-b0b8-4f6a-a50c-8a8f082d7677",
   "metadata": {},
   "outputs": [],
   "source": [
    "feat_dim = 10\n",
    "max_len = 120\n",
    "d_model = 32\n",
    "n_heads = 2\n",
    "num_layers = 2\n",
    "dim_feedforward = 32\n",
    "num_classes = 3\n",
    "dropout=0.1\n",
    "pos_encoding = \"learn\"\n",
    "activation=\"relu\"\n",
    "norm = \"BatchNorm\"\n",
    "freeze=False"
   ]
  },
  {
   "cell_type": "code",
   "execution_count": null,
   "id": "059ec422-449e-40c5-849c-0ff15aa09249",
   "metadata": {},
   "outputs": [],
   "source": [
    "# Gpu available\n",
    "if torch.cuda.is_available():\n",
    "    device = torch.device(\"cuda\")"
   ]
  },
  {
   "cell_type": "code",
   "execution_count": null,
   "id": "a1e6886d-88d1-420c-87b7-85b254274ab6",
   "metadata": {},
   "outputs": [],
   "source": [
    "class_model = TSTransformerEncoderClassiregressor(feat_dim, max_len, d_model, n_heads, num_layers, dim_feedforward, num_classes, dropout, pos_encoding, activation, norm, freeze).to(device)"
   ]
  },
  {
   "cell_type": "markdown",
   "id": "90363888-5d70-4c97-b375-3796a36850f6",
   "metadata": {},
   "source": [
    "## Data"
   ]
  },
  {
   "cell_type": "code",
   "execution_count": null,
   "id": "1e189890-1ca7-4c22-88e4-a006f0ff9bb5",
   "metadata": {},
   "outputs": [],
   "source": [
    "class Trajectory(Dataset):\n",
    "    def __init__(self, traj, label, index, max_len):\n",
    "        \"\"\"\n",
    "        traj: features\n",
    "        lable: trawlers, gillnetters or seiners\n",
    "        index: which trajectory the segments belonging to\n",
    "        max_len: max length of segments\n",
    "        \"\"\"\n",
    "        super().__init__()\n",
    "        self.traj = traj\n",
    "        self.label = torch.tensor(label)\n",
    "        self.index = index\n",
    "        self.len = torch.tensor([t.shape[0] for t in traj])\n",
    "        self.max_len = max_len\n",
    "        self.make_padding()\n",
    "        \n",
    "    def __getitem__(self, index):\n",
    "        return self.traj[index], self.label[index], self.index[index], self.len[index], self.mask[index]\n",
    "    \n",
    "    def __len__(self):\n",
    "        return len(self.index)\n",
    "    \n",
    "    def make_padding(self):\n",
    "        mask = torch.zeros(self.__len__(), self.max_len, dtype=torch.bool)\n",
    "        \n",
    "        for i in range(mask.shape[0]):\n",
    "            \n",
    "            mask[i, :self.len[i]] = 1\n",
    "        self.mask = mask"
   ]
  },
  {
   "cell_type": "code",
   "execution_count": null,
   "id": "ec873101-7986-4bbb-b0ef-4db385dfb94f",
   "metadata": {},
   "outputs": [],
   "source": [
    "def collate_fn(batch, max_len):\n",
    "    traj, label, index, ll, mask = zip(*batch)\n",
    "    padded_sequences = pad_sequence(traj, batch_first=True)\n",
    "    extra_padding = max_len - padded_sequences.size(1)\n",
    "    if extra_padding !=0:\n",
    "        padding = torch.full((padded_sequences.size(0), extra_padding, padded_sequences.size(-1)), 0, dtype=padded_sequences.dtype)\n",
    "        padded_sequences = torch.cat([padded_sequences, padding], dim=1)\n",
    "    return padded_sequences, torch.stack(label), index, ll, torch.stack(mask)\n",
    "\n",
    "# max_len: max length of segments\n",
    "collate_fn = partial(collate_fn, max_len=120)\n",
    "\n",
    "Segmentations = DataLoader(trajectory, batch_size=5000, shuffle=True, collate_fn=collate_fn)"
   ]
  },
  {
   "cell_type": "markdown",
   "id": "21391481-59af-4cc0-a978-5a653a6fea21",
   "metadata": {},
   "source": [
    "## Training"
   ]
  },
  {
   "cell_type": "code",
   "execution_count": null,
   "id": "3f98171a-569e-410c-b75e-c6fe083d2dcb",
   "metadata": {},
   "outputs": [],
   "source": [
    "# loss function\n",
    "class_loss = NoFussCrossEntropyLoss()\n",
    "\n",
    "# optimizer\n",
    "lr = 1e-3\n",
    "optimizer = optim.Adam(class_model.parameters(), lr=lr)"
   ]
  },
  {
   "cell_type": "code",
   "execution_count": null,
   "id": "61ffd1ba-5ff3-4649-8923-5bcea3afd32b",
   "metadata": {},
   "outputs": [],
   "source": [
    "# training\n",
    "def train(model):\n",
    "    model.train()\n",
    "    train_loss = 0\n",
    "    pbar = tqdm(enumerate(Segmentations))\n",
    "    for batch_idx, data in pbar:\n",
    "        optimizer.zero_grad()\n",
    "        traj, label, _, ll, mask = data\n",
    "        traj = traj.to(device)\n",
    "        mask = mask.to(device)\n",
    "        label = label.to(device)\n",
    "        output = class_model(traj, mask)\n",
    "        loss = class_loss(output, label)\n",
    "        loss.backward()\n",
    "        optimizer.step()\n",
    "\n",
    "        train_loss += loss.item()\n",
    "\n",
    "        pbar.set_description(\n",
    "            'Batch Idx: (%d/%d) | Loss: %.3f ' %\n",
    "            (batch_idx + 1, len(Segmentations), train_loss/(batch_idx+1))\n",
    "        )\n",
    "    return train_loss/(batch_idx+1)"
   ]
  },
  {
   "cell_type": "code",
   "execution_count": null,
   "id": "e2ecfa9b-8be1-4a88-a06f-03a78ba2a5b8",
   "metadata": {},
   "outputs": [],
   "source": [
    "pbar = tqdm(range(epochs))\n",
    "for epoch in pbar:\n",
    "    pbar.set_description('Epoch: %d' % (epoch))"
   ]
  }
 ],
 "metadata": {
  "kernelspec": {
   "display_name": "Python 3 (ipykernel)",
   "language": "python",
   "name": "python3"
  },
  "language_info": {
   "codemirror_mode": {
    "name": "ipython",
    "version": 3
   },
   "file_extension": ".py",
   "mimetype": "text/x-python",
   "name": "python",
   "nbconvert_exporter": "python",
   "pygments_lexer": "ipython3",
   "version": "3.7.12"
  }
 },
 "nbformat": 4,
 "nbformat_minor": 5
}
